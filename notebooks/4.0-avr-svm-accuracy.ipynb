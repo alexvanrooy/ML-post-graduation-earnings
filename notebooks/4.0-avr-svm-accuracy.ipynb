{
 "cells": [
  {
   "cell_type": "code",
   "execution_count": 2,
   "metadata": {},
   "outputs": [],
   "source": [
    "#IMPORTS\n",
    "import pandas as pd\n",
    "from sklearn.utils import resample\n",
    "from sklearn.pipeline import make_pipeline\n",
    "from sklearn.preprocessing import StandardScaler\n",
    "from sklearn.metrics import mean_squared_error\n",
    "from sklearn.feature_selection import SequentialFeatureSelector\n",
    "from sklearn.ensemble import BaggingRegressor,RandomForestRegressor\n",
    "from sklearn.model_selection import cross_val_score, GridSearchCV\n",
    "\n",
    "from sklearn.svm import SVR"
   ]
  },
  {
   "cell_type": "code",
   "execution_count": 3,
   "metadata": {},
   "outputs": [],
   "source": [
    "#Load data\n",
    "\n",
    "X_train = pd.read_csv('..\\data\\processed\\X_train.csv', index_col=0) \n",
    "y_train = pd.read_csv('..\\data\\processed\\y_train.csv', index_col=0)\n",
    "\n",
    "X_test = pd.read_csv('..\\data\\processed\\X_test.csv', index_col=0)\n",
    "y_test = pd.read_csv('..\\data\\processed\\y_test.csv', index_col=0)\n",
    "\n",
    "\n",
    "#train SVM model\n",
    "\n",
    "scaler = StandardScaler()\n",
    "X_train_SVM = scaler.fit_transform(X_train, y_train)\n",
    "\n",
    "X_test_SVM = scaler.transform(X_test)"
   ]
  },
  {
   "cell_type": "code",
   "execution_count": 4,
   "metadata": {},
   "outputs": [],
   "source": [
    "model = BaggingRegressor(estimator=SVR(kernel='rbf', C= 180000, gamma = 0.013), n_estimators=90, max_features=0.70, random_state=42).fit(X_train_SVM, y_train.to_numpy().ravel())"
   ]
  },
  {
   "cell_type": "code",
   "execution_count": 5,
   "metadata": {},
   "outputs": [],
   "source": [
    "y_pred = model.predict(X_test_SVM)"
   ]
  },
  {
   "cell_type": "code",
   "execution_count": 11,
   "metadata": {},
   "outputs": [],
   "source": [
    "df = pd.DataFrame(data= {'TRUE': y_test.to_numpy().ravel(), 'PRED' : y_pred})"
   ]
  },
  {
   "cell_type": "code",
   "execution_count": 40,
   "metadata": {},
   "outputs": [],
   "source": [
    "def accuracy(row, difference):\n",
    "    a = row[0]\n",
    "    b = row[1]\n",
    "\n",
    "    diff = abs(a-b)\n",
    "\n",
    "    if(diff <= difference):\n",
    "        return 1\n",
    "    \n",
    "    return 0\n",
    "\n",
    "df['<5000'] = df.apply(accuracy, difference = 5000, axis = 1)\n",
    "df['<2000'] = df.apply(accuracy, difference = 2000, axis = 1)"
   ]
  },
  {
   "cell_type": "code",
   "execution_count": 42,
   "metadata": {},
   "outputs": [
    {
     "name": "stdout",
     "output_type": "stream",
     "text": [
      "SVM MODEL ACCURACY FOR <= 5000: 81.545636242505\n",
      "SVM MODEL ACCURACY FOR <= 2000: 50.56628914057295\n"
     ]
    }
   ],
   "source": [
    "print(f\"SVM MODEL ACCURACY FOR <= 5000: {(df['<5000'].sum()/df.shape[0])*100}\")\n",
    "print(f\"SVM MODEL ACCURACY FOR <= 2000: {(df['<2000'].sum()/df.shape[0])*100}\")"
   ]
  }
 ],
 "metadata": {
  "kernelspec": {
   "display_name": "CP322env",
   "language": "python",
   "name": "python3"
  },
  "language_info": {
   "codemirror_mode": {
    "name": "ipython",
    "version": 3
   },
   "file_extension": ".py",
   "mimetype": "text/x-python",
   "name": "python",
   "nbconvert_exporter": "python",
   "pygments_lexer": "ipython3",
   "version": "3.10.9"
  },
  "orig_nbformat": 4
 },
 "nbformat": 4,
 "nbformat_minor": 2
}
