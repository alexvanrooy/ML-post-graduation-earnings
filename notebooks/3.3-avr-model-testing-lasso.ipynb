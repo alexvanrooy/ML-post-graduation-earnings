{
 "cells": [
  {
   "cell_type": "code",
   "execution_count": 2,
   "metadata": {},
   "outputs": [],
   "source": [
    "#IMPORTS\n",
    "import pandas as pd\n",
    "import numpy as np\n",
    "from sklearn.utils import resample\n",
    "from sklearn.pipeline import make_pipeline\n",
    "from sklearn.preprocessing import StandardScaler\n",
    "from sklearn.metrics import mean_squared_error\n",
    "from sklearn.feature_selection import SequentialFeatureSelector\n",
    "from sklearn.ensemble import BaggingRegressor,RandomForestRegressor\n",
    "from sklearn.model_selection import cross_val_score, GridSearchCV\n",
    "from  sklearn.linear_model import Lasso"
   ]
  },
  {
   "cell_type": "code",
   "execution_count": 3,
   "metadata": {},
   "outputs": [],
   "source": [
    "#Load data\n",
    "\n",
    "X_train = pd.read_csv('..\\data\\processed\\X_train.csv', index_col=0) \n",
    "y_train = pd.read_csv('..\\data\\processed\\y_train.csv', index_col=0)\n",
    "\n",
    "X_test = pd.read_csv('..\\data\\processed\\X_test.csv', index_col=0)\n",
    "y_test = pd.read_csv('..\\data\\processed\\y_test.csv', index_col=0)"
   ]
  },
  {
   "cell_type": "code",
   "execution_count": 4,
   "metadata": {},
   "outputs": [],
   "source": [
    "X_train = X_train/X_train.max()\n",
    "\n",
    "\n",
    "X_test = X_test/X_test.max()"
   ]
  },
  {
   "cell_type": "code",
   "execution_count": 10,
   "metadata": {},
   "outputs": [
    {
     "name": "stdout",
     "output_type": "stream",
     "text": [
      "Lasso Stats:\n",
      "Test Accuracy: 0.6369920000742656\n",
      "Train Accuracy: 0.6894866710994425\n"
     ]
    }
   ],
   "source": [
    "model = Lasso(random_state= 42, alpha = 1).fit(X_train, y_train)\n",
    "\n",
    "print(\"Lasso Stats:\")\n",
    "print(f\"Test Accuracy: {model.score(X_test, y_test)}\")\n",
    "\n",
    "print(f\"Train Accuracy: {model.score(X_train, y_train)}\")"
   ]
  }
 ],
 "metadata": {
  "kernelspec": {
   "display_name": "CP322env",
   "language": "python",
   "name": "python3"
  },
  "language_info": {
   "codemirror_mode": {
    "name": "ipython",
    "version": 3
   },
   "file_extension": ".py",
   "mimetype": "text/x-python",
   "name": "python",
   "nbconvert_exporter": "python",
   "pygments_lexer": "ipython3",
   "version": "3.10.9"
  },
  "orig_nbformat": 4
 },
 "nbformat": 4,
 "nbformat_minor": 2
}
