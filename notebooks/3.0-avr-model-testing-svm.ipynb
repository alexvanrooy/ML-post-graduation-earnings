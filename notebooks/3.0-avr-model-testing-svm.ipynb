{
 "cells": [
  {
   "cell_type": "code",
   "execution_count": 14,
   "metadata": {},
   "outputs": [],
   "source": [
    "#IMPORTS\n",
    "import pandas as pd\n",
    "import numpy as np\n",
    "from sklearn.utils import resample\n",
    "from sklearn.pipeline import make_pipeline\n",
    "from sklearn.preprocessing import StandardScaler\n",
    "from sklearn.metrics import mean_squared_error\n",
    "from sklearn.feature_selection import SequentialFeatureSelector, VarianceThreshold\n",
    "from sklearn.ensemble import BaggingRegressor,RandomForestRegressor\n",
    "from sklearn.model_selection import cross_val_score, GridSearchCV\n",
    "\n",
    "from sklearn.svm import SVR"
   ]
  },
  {
   "cell_type": "code",
   "execution_count": 15,
   "metadata": {},
   "outputs": [],
   "source": [
    "#Load data\n",
    "\n",
    "X_train = pd.read_csv('..\\data\\processed\\X_train.csv', index_col=0) \n",
    "y_train = pd.read_csv('..\\data\\processed\\y_train.csv', index_col=0)\n",
    "\n",
    "X_test = pd.read_csv('..\\data\\processed\\X_test.csv', index_col=0)\n",
    "y_test = pd.read_csv('..\\data\\processed\\y_test.csv', index_col=0)"
   ]
  },
  {
   "cell_type": "code",
   "execution_count": 4,
   "metadata": {},
   "outputs": [],
   "source": [
    "'''cor_matrix = X_train.corr().abs()\n",
    "upper_tri = cor_matrix.where(np.triu(np.ones(cor_matrix.shape),k=1).astype(bool))\n",
    "to_drop = [column for column in upper_tri.columns if any(upper_tri[column] > 0.95)]\n",
    "\n",
    "new_X_train = X_train.drop(to_drop, axis=1)\n",
    "new_X_test = X_test.drop(to_drop, axis=1)'''"
   ]
  },
  {
   "cell_type": "code",
   "execution_count": 16,
   "metadata": {},
   "outputs": [],
   "source": [
    "#train SVM model\n",
    "scaler = StandardScaler()\n",
    "X_train_SVM = scaler.fit_transform(X_train, y_train)\n",
    "\n",
    "X_test_SVM = scaler.transform(X_test)"
   ]
  },
  {
   "cell_type": "code",
   "execution_count": 8,
   "metadata": {},
   "outputs": [
    {
     "name": "stdout",
     "output_type": "stream",
     "text": [
      "SVM with bagging Stats:\n",
      "Test Accuracy: 0.7961273603274456\n",
      "Train Accuracy: 0.9395726435969665\n"
     ]
    }
   ],
   "source": [
    "#Best model so far\n",
    "\n",
    "#SVM with bagging 0.7988249929422202\n",
    "modelBag = BaggingRegressor(estimator=SVR(kernel='rbf', C= 185000, gamma = 0.0126), n_estimators=90, max_features=0.65, random_state=42).fit(X_train_SVM, y_train.to_numpy().ravel())\n",
    "\n",
    "print(\"SVM with bagging Stats:\")\n",
    "print(f\"Test Accuracy: {modelBag.score(X_test_SVM, y_test)}\")\n",
    "print(f\"Train Accuracy: {modelBag.score(X_train_SVM, y_train)}\")\n"
   ]
  },
  {
   "cell_type": "code",
   "execution_count": 10,
   "metadata": {},
   "outputs": [
    {
     "name": "stdout",
     "output_type": "stream",
     "text": [
      "SVM with bagging Stats:\n",
      "Test Accuracy: 0.7919687763621599\n",
      "Train Accuracy: 0.9103374946991729\n"
     ]
    }
   ],
   "source": [
    "\n",
    "#SVM with bagging 0.7988249929422202\n",
    "modelBag = BaggingRegressor(estimator=SVR(kernel='rbf', C= 185000, gamma = 0.0126), n_estimators=90, max_features=0.5, random_state=42).fit(X_train_SVM, y_train.to_numpy().ravel())\n",
    "\n",
    "print(\"SVM with bagging Stats:\")\n",
    "print(f\"Test Accuracy: {modelBag.score(X_test_SVM, y_test)}\")\n",
    "print(f\"Train Accuracy: {modelBag.score(X_train_SVM, y_train)}\")\n"
   ]
  },
  {
   "cell_type": "code",
   "execution_count": 68,
   "metadata": {},
   "outputs": [],
   "source": [
    "max_features = [0.54]\n",
    "\n",
    "param_grid = {\n",
    "    'n_estimators' : [40,50,60,70,90],\n",
    "    'max_features' : [0.5,0.6,0.7,0.8,0.9],\n",
    "    'random_state': [42]\n",
    "}\n",
    "model =  BaggingRegressor(estimator=SVR(kernel='rbf', C= 180000, gamma = 0.0125))\n",
    "\n",
    "grid = GridSearchCV(cv = 2, estimator=model, param_grid=param_grid).fit(X_train_SVM, y_train.to_numpy().ravel())"
   ]
  },
  {
   "cell_type": "code",
   "execution_count": 69,
   "metadata": {},
   "outputs": [
    {
     "name": "stdout",
     "output_type": "stream",
     "text": [
      "{'base_estimator': 'deprecated', 'bootstrap': True, 'bootstrap_features': False, 'estimator__C': 180000, 'estimator__cache_size': 200, 'estimator__coef0': 0.0, 'estimator__degree': 3, 'estimator__epsilon': 0.1, 'estimator__gamma': 0.0125, 'estimator__kernel': 'rbf', 'estimator__max_iter': -1, 'estimator__shrinking': True, 'estimator__tol': 0.001, 'estimator__verbose': False, 'estimator': SVR(C=180000, gamma=0.0125), 'max_features': 0.6, 'max_samples': 1.0, 'n_estimators': 90, 'n_jobs': None, 'oob_score': False, 'random_state': 42, 'verbose': 0, 'warm_start': False}\n",
      "Test Accuracy: 0.7956509560486852\n",
      "Train Accuracy: 0.9327432745007836\n"
     ]
    }
   ],
   "source": [
    "print(grid.best_estimator_.get_params())\n",
    "\n",
    "best_model = grid.best_estimator_\n",
    "\n",
    "print(f\"Test Accuracy: {best_model.score(X_test_SVM, y_test)}\")\n",
    "print(f\"Train Accuracy: {best_model.score(X_train_SVM, y_train)}\")"
   ]
  },
  {
   "cell_type": "code",
   "execution_count": 6,
   "metadata": {},
   "outputs": [],
   "source": [
    "scores = cross_val_score(cv = 10, estimator=BaggingRegressor(estimator=SVR(kernel='rbf', C= 180000, gamma = 0.013), n_estimators=90, max_features=0.70),X = X_train_SVM, y = y_train.to_numpy().ravel())"
   ]
  },
  {
   "cell_type": "code",
   "execution_count": 10,
   "metadata": {},
   "outputs": [
    {
     "name": "stdout",
     "output_type": "stream",
     "text": [
      "[0.78723692 0.79676134 0.78766412 0.82800363 0.72965792 0.84578952\n",
      " 0.78077894 0.84442538 0.77618615 0.75882597]\n"
     ]
    }
   ],
   "source": [
    "print(scores)"
   ]
  },
  {
   "cell_type": "code",
   "execution_count": 68,
   "metadata": {},
   "outputs": [
    {
     "data": {
      "text/html": [
       "<style>#sk-container-id-2 {color: black;background-color: white;}#sk-container-id-2 pre{padding: 0;}#sk-container-id-2 div.sk-toggleable {background-color: white;}#sk-container-id-2 label.sk-toggleable__label {cursor: pointer;display: block;width: 100%;margin-bottom: 0;padding: 0.3em;box-sizing: border-box;text-align: center;}#sk-container-id-2 label.sk-toggleable__label-arrow:before {content: \"▸\";float: left;margin-right: 0.25em;color: #696969;}#sk-container-id-2 label.sk-toggleable__label-arrow:hover:before {color: black;}#sk-container-id-2 div.sk-estimator:hover label.sk-toggleable__label-arrow:before {color: black;}#sk-container-id-2 div.sk-toggleable__content {max-height: 0;max-width: 0;overflow: hidden;text-align: left;background-color: #f0f8ff;}#sk-container-id-2 div.sk-toggleable__content pre {margin: 0.2em;color: black;border-radius: 0.25em;background-color: #f0f8ff;}#sk-container-id-2 input.sk-toggleable__control:checked~div.sk-toggleable__content {max-height: 200px;max-width: 100%;overflow: auto;}#sk-container-id-2 input.sk-toggleable__control:checked~label.sk-toggleable__label-arrow:before {content: \"▾\";}#sk-container-id-2 div.sk-estimator input.sk-toggleable__control:checked~label.sk-toggleable__label {background-color: #d4ebff;}#sk-container-id-2 div.sk-label input.sk-toggleable__control:checked~label.sk-toggleable__label {background-color: #d4ebff;}#sk-container-id-2 input.sk-hidden--visually {border: 0;clip: rect(1px 1px 1px 1px);clip: rect(1px, 1px, 1px, 1px);height: 1px;margin: -1px;overflow: hidden;padding: 0;position: absolute;width: 1px;}#sk-container-id-2 div.sk-estimator {font-family: monospace;background-color: #f0f8ff;border: 1px dotted black;border-radius: 0.25em;box-sizing: border-box;margin-bottom: 0.5em;}#sk-container-id-2 div.sk-estimator:hover {background-color: #d4ebff;}#sk-container-id-2 div.sk-parallel-item::after {content: \"\";width: 100%;border-bottom: 1px solid gray;flex-grow: 1;}#sk-container-id-2 div.sk-label:hover label.sk-toggleable__label {background-color: #d4ebff;}#sk-container-id-2 div.sk-serial::before {content: \"\";position: absolute;border-left: 1px solid gray;box-sizing: border-box;top: 0;bottom: 0;left: 50%;z-index: 0;}#sk-container-id-2 div.sk-serial {display: flex;flex-direction: column;align-items: center;background-color: white;padding-right: 0.2em;padding-left: 0.2em;position: relative;}#sk-container-id-2 div.sk-item {position: relative;z-index: 1;}#sk-container-id-2 div.sk-parallel {display: flex;align-items: stretch;justify-content: center;background-color: white;position: relative;}#sk-container-id-2 div.sk-item::before, #sk-container-id-2 div.sk-parallel-item::before {content: \"\";position: absolute;border-left: 1px solid gray;box-sizing: border-box;top: 0;bottom: 0;left: 50%;z-index: -1;}#sk-container-id-2 div.sk-parallel-item {display: flex;flex-direction: column;z-index: 1;position: relative;background-color: white;}#sk-container-id-2 div.sk-parallel-item:first-child::after {align-self: flex-end;width: 50%;}#sk-container-id-2 div.sk-parallel-item:last-child::after {align-self: flex-start;width: 50%;}#sk-container-id-2 div.sk-parallel-item:only-child::after {width: 0;}#sk-container-id-2 div.sk-dashed-wrapped {border: 1px dashed gray;margin: 0 0.4em 0.5em 0.4em;box-sizing: border-box;padding-bottom: 0.4em;background-color: white;}#sk-container-id-2 div.sk-label label {font-family: monospace;font-weight: bold;display: inline-block;line-height: 1.2em;}#sk-container-id-2 div.sk-label-container {text-align: center;}#sk-container-id-2 div.sk-container {/* jupyter's `normalize.less` sets `[hidden] { display: none; }` but bootstrap.min.css set `[hidden] { display: none !important; }` so we also need the `!important` here to be able to override the default hidden behavior on the sphinx rendered scikit-learn.org. See: https://github.com/scikit-learn/scikit-learn/issues/21755 */display: inline-block !important;position: relative;}#sk-container-id-2 div.sk-text-repr-fallback {display: none;}</style><div id=\"sk-container-id-2\" class=\"sk-top-container\"><div class=\"sk-text-repr-fallback\"><pre>SequentialFeatureSelector(estimator=SVR(C=97000, gamma=0.01),\n",
       "                          n_features_to_select=10)</pre><b>In a Jupyter environment, please rerun this cell to show the HTML representation or trust the notebook. <br />On GitHub, the HTML representation is unable to render, please try loading this page with nbviewer.org.</b></div><div class=\"sk-container\" hidden><div class=\"sk-item sk-dashed-wrapped\"><div class=\"sk-label-container\"><div class=\"sk-label sk-toggleable\"><input class=\"sk-toggleable__control sk-hidden--visually\" id=\"sk-estimator-id-4\" type=\"checkbox\" ><label for=\"sk-estimator-id-4\" class=\"sk-toggleable__label sk-toggleable__label-arrow\">SequentialFeatureSelector</label><div class=\"sk-toggleable__content\"><pre>SequentialFeatureSelector(estimator=SVR(C=97000, gamma=0.01),\n",
       "                          n_features_to_select=10)</pre></div></div></div><div class=\"sk-parallel\"><div class=\"sk-parallel-item\"><div class=\"sk-item\"><div class=\"sk-label-container\"><div class=\"sk-label sk-toggleable\"><input class=\"sk-toggleable__control sk-hidden--visually\" id=\"sk-estimator-id-5\" type=\"checkbox\" ><label for=\"sk-estimator-id-5\" class=\"sk-toggleable__label sk-toggleable__label-arrow\">estimator: SVR</label><div class=\"sk-toggleable__content\"><pre>SVR(C=97000, gamma=0.01)</pre></div></div></div><div class=\"sk-serial\"><div class=\"sk-item\"><div class=\"sk-estimator sk-toggleable\"><input class=\"sk-toggleable__control sk-hidden--visually\" id=\"sk-estimator-id-6\" type=\"checkbox\" ><label for=\"sk-estimator-id-6\" class=\"sk-toggleable__label sk-toggleable__label-arrow\">SVR</label><div class=\"sk-toggleable__content\"><pre>SVR(C=97000, gamma=0.01)</pre></div></div></div></div></div></div></div></div></div></div>"
      ],
      "text/plain": [
       "SequentialFeatureSelector(estimator=SVR(C=97000, gamma=0.01),\n",
       "                          n_features_to_select=10)"
      ]
     },
     "execution_count": 68,
     "metadata": {},
     "output_type": "execute_result"
    }
   ],
   "source": [
    "#SVM Feature selection and then bagging\n",
    "sfs = SequentialFeatureSelector(estimator=SVR(kernel='rbf', C= 97000, gamma = 0.01), n_features_to_select=10)\n",
    "sfs.fit(X_train_SVM, y_train.to_numpy().ravel())"
   ]
  },
  {
   "cell_type": "code",
   "execution_count": 73,
   "metadata": {},
   "outputs": [],
   "source": [
    "X_train_new = sfs.transform(X_train_SVM)\n",
    "X_test_new = sfs.transform(X_test_SVM)"
   ]
  },
  {
   "cell_type": "code",
   "execution_count": 115,
   "metadata": {},
   "outputs": [
    {
     "name": "stdout",
     "output_type": "stream",
     "text": [
      "SVM with bagging Stats:\n",
      "Test Accuracy: 0.6876600912932719\n",
      "Train Accuracy: 0.7430295156858931\n"
     ]
    }
   ],
   "source": [
    "modelBag = BaggingRegressor(estimator=SVR(kernel='rbf', C= 97000, gamma = 0.01), n_estimators=10,random_state=42).fit(X_train_new, y_train.to_numpy().ravel())\n",
    "\n",
    "print(\"SVM with bagging Stats:\")\n",
    "print(f\"Test Accuracy: {modelBag.score(X_test_new, y_test)}\")\n",
    "print(f\"Train Accuracy: {modelBag.score(X_train_new, y_train)}\")"
   ]
  },
  {
   "cell_type": "code",
   "execution_count": 108,
   "metadata": {},
   "outputs": [
    {
     "data": {
      "text/plain": [
       "Index(['CCBASIC', 'UGDS_ASIAN', 'INEXPFTE', 'PCTFLOAN', 'RPY_7YR_RT',\n",
       "       'MALE_DEBT_N', 'MD_FAMINC', 'FAMINC_IND', 'PCT_WHITE', 'UGDS_MEN'],\n",
       "      dtype='object')"
      ]
     },
     "execution_count": 108,
     "metadata": {},
     "output_type": "execute_result"
    }
   ],
   "source": [
    "#find the 10 features selected\n",
    "selected_features = sfs.get_support()\n",
    "\n",
    "X_train.columns[selected_features]"
   ]
  }
 ],
 "metadata": {
  "kernelspec": {
   "display_name": "CP322env",
   "language": "python",
   "name": "python3"
  },
  "language_info": {
   "codemirror_mode": {
    "name": "ipython",
    "version": 3
   },
   "file_extension": ".py",
   "mimetype": "text/x-python",
   "name": "python",
   "nbconvert_exporter": "python",
   "pygments_lexer": "ipython3",
   "version": "3.10.9"
  },
  "orig_nbformat": 4
 },
 "nbformat": 4,
 "nbformat_minor": 2
}
