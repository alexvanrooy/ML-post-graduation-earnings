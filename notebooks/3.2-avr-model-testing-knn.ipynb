{
 "cells": [
  {
   "cell_type": "code",
   "execution_count": 1,
   "metadata": {},
   "outputs": [],
   "source": [
    "#IMPORTS\n",
    "import pandas as pd\n",
    "import numpy as np\n",
    "from sklearn.utils import resample\n",
    "from sklearn.pipeline import make_pipeline\n",
    "from sklearn.preprocessing import StandardScaler\n",
    "from sklearn.metrics import mean_squared_error\n",
    "from sklearn.feature_selection import SequentialFeatureSelector\n",
    "from sklearn.ensemble import BaggingRegressor,RandomForestRegressor\n",
    "from sklearn.model_selection import cross_val_score, GridSearchCV\n",
    "from sklearn.neighbors import KNeighborsRegressor\n",
    "from sklearn.model_selection import cross_val_score, GridSearchCV"
   ]
  },
  {
   "cell_type": "code",
   "execution_count": 77,
   "metadata": {},
   "outputs": [],
   "source": [
    "#Load data\n",
    "\n",
    "X_train = pd.read_csv('..\\data\\processed\\X_train.csv', index_col=0) \n",
    "y_train = pd.read_csv('..\\data\\processed\\y_train.csv', index_col=0)\n",
    "\n",
    "X_test = pd.read_csv('..\\data\\processed\\X_test.csv', index_col=0)\n",
    "y_test = pd.read_csv('..\\data\\processed\\y_test.csv', index_col=0)\n",
    "\n",
    "X_train = X_train/X_train.max()\n",
    "\n",
    "\n",
    "X_test = X_test/X_test.max()\n",
    "\n",
    "y_train = y_train.to_numpy().ravel()\n",
    "y_test = y_test.to_numpy().ravel()"
   ]
  },
  {
   "cell_type": "code",
   "execution_count": 7,
   "metadata": {},
   "outputs": [],
   "source": [
    "X_train = X_train/X_train.max()\n",
    "\n",
    "\n",
    "X_test = X_test/X_test.max()"
   ]
  },
  {
   "cell_type": "code",
   "execution_count": 9,
   "metadata": {},
   "outputs": [],
   "source": [
    "param_grid = {\n",
    "    'n_neighbors' : list(range(1,100))\n",
    "}\n",
    "\n",
    "model = GridSearchCV(estimator=KNeighborsRegressor(), param_grid=param_grid).fit(X_train,y_train)"
   ]
  },
  {
   "cell_type": "code",
   "execution_count": 10,
   "metadata": {},
   "outputs": [
    {
     "name": "stdout",
     "output_type": "stream",
     "text": [
      "KNN Stats:\n",
      "Test Accuracy: 0.6917027126839765\n",
      "Train Accuracy: 0.840631279685496\n"
     ]
    }
   ],
   "source": [
    "model = model.best_estimator_\n",
    "\n",
    "\n",
    "print(\"KNN Stats:\")\n",
    "print(f\"Test Accuracy: {model.score(X_test, y_test)}\")\n",
    "\n",
    "print(f\"Train Accuracy: {model.score(X_train, y_train)}\")"
   ]
  },
  {
   "cell_type": "code",
   "execution_count": 11,
   "metadata": {},
   "outputs": [
    {
     "name": "stdout",
     "output_type": "stream",
     "text": [
      "{'algorithm': 'auto', 'leaf_size': 30, 'metric': 'minkowski', 'metric_params': None, 'n_jobs': None, 'n_neighbors': 4, 'p': 2, 'weights': 'uniform'}\n"
     ]
    }
   ],
   "source": [
    "print(model.get_params())"
   ]
  },
  {
   "cell_type": "code",
   "execution_count": 24,
   "metadata": {},
   "outputs": [
    {
     "name": "stdout",
     "output_type": "stream",
     "text": [
      "KNN Stats:\n",
      "Test Accuracy: 0.6917027126839765\n",
      "Train Accuracy: 0.840631279685496\n"
     ]
    }
   ],
   "source": [
    "model = KNeighborsRegressor(n_neighbors=4).fit(X_train, y_train)\n",
    "\n",
    "print(\"KNN Stats:\")\n",
    "print(f\"Test Accuracy: {model.score(X_test, y_test)}\")\n",
    "\n",
    "print(f\"Train Accuracy: {model.score(X_train, y_train)}\")"
   ]
  },
  {
   "cell_type": "code",
   "execution_count": 83,
   "metadata": {},
   "outputs": [
    {
     "name": "stdout",
     "output_type": "stream",
     "text": [
      "KNN Stats:\n",
      "Test Accuracy: 0.7355632506719212\n",
      "Train Accuracy: 0.9203048724420371\n"
     ]
    }
   ],
   "source": [
    "knn = KNeighborsRegressor(n_neighbors=2)\n",
    "model = BaggingRegressor(estimator=knn, n_estimators=30, max_features=0.55, random_state=42).fit(X_train,y_train)\n",
    "\n",
    "print(\"KNN Stats:\")\n",
    "print(f\"Test Accuracy: {model.score(X_test, y_test)}\")\n",
    "\n",
    "print(f\"Train Accuracy: {model.score(X_train, y_train)}\")"
   ]
  }
 ],
 "metadata": {
  "kernelspec": {
   "display_name": "CP322env",
   "language": "python",
   "name": "python3"
  },
  "language_info": {
   "codemirror_mode": {
    "name": "ipython",
    "version": 3
   },
   "file_extension": ".py",
   "mimetype": "text/x-python",
   "name": "python",
   "nbconvert_exporter": "python",
   "pygments_lexer": "ipython3",
   "version": "3.10.9"
  },
  "orig_nbformat": 4
 },
 "nbformat": 4,
 "nbformat_minor": 2
}
