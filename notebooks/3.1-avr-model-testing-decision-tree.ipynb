{
 "cells": [
  {
   "cell_type": "code",
   "execution_count": 1,
   "metadata": {},
   "outputs": [],
   "source": [
    "#IMPORTS\n",
    "import pandas as pd\n",
    "import numpy as np\n",
    "from sklearn.utils import resample\n",
    "from sklearn.pipeline import make_pipeline\n",
    "from sklearn.preprocessing import StandardScaler\n",
    "from sklearn.metrics import mean_squared_error\n",
    "from sklearn.feature_selection import SequentialFeatureSelector\n",
    "from sklearn.ensemble import BaggingRegressor,RandomForestRegressor\n",
    "from sklearn.model_selection import cross_val_score, GridSearchCV\n",
    "from sklearn.tree import DecisionTreeRegressor"
   ]
  },
  {
   "cell_type": "code",
   "execution_count": 2,
   "metadata": {},
   "outputs": [],
   "source": [
    "#Load data\n",
    "\n",
    "X_train = pd.read_csv('..\\data\\processed\\X_train.csv', index_col=0) \n",
    "y_train = pd.read_csv('..\\data\\processed\\y_train.csv', index_col=0)\n",
    "\n",
    "X_test = pd.read_csv('..\\data\\processed\\X_test.csv', index_col=0)\n",
    "y_test = pd.read_csv('..\\data\\processed\\y_test.csv', index_col=0)\n",
    "\n",
    "y_train = y_train.to_numpy().ravel()"
   ]
  },
  {
   "cell_type": "code",
   "execution_count": 7,
   "metadata": {},
   "outputs": [
    {
     "name": "stdout",
     "output_type": "stream",
     "text": [
      "Decision Tree Stats:\n",
      "Test Accuracy: 0.45273670123831544\n",
      "Train Accuracy: 0.9762595435885145\n"
     ]
    }
   ],
   "source": [
    "model = DecisionTreeRegressor(max_depth = 20, min_samples_split=5, max_features='sqrt', random_state=42).fit(X_train, y_train)\n",
    "\n",
    "print(\"Decision Tree Stats:\")\n",
    "print(f\"Test Accuracy: {model.score(X_test, y_test)}\")\n",
    "\n",
    "print(f\"Train Accuracy: {model.score(X_train, y_train)}\")"
   ]
  },
  {
   "cell_type": "code",
   "execution_count": 50,
   "metadata": {},
   "outputs": [],
   "source": [
    "#BEST Model 0.7523989837864618\n",
    "\n",
    "#parameters\n",
    "max_depth = 20\n",
    "min_samples_split = 5\n",
    "min_samples_leaf = 1\n",
    "max_features = 'sqrt'\n",
    "random_state = 42\n",
    "model = DecisionTreeRegressor(max_depth=max_depth, min_samples_split=min_samples_split, max_features=max_features, random_state=42)\n",
    "\n",
    "\n",
    "n_estimators = 90\n",
    "max_samples = 0.95\n",
    "max_features = 1.0\n",
    "\n",
    "bag = BaggingRegressor(estimator=model, n_estimators=n_estimators, max_samples=max_samples, max_features=max_features, random_state=42).fit(X_train, y_train)\n",
    "\n",
    "\n",
    "print(\"Decision Tree Stats:\")\n",
    "print(f\"Test Accuracy: {bag.score(X_test, y_test)}\")\n",
    "\n",
    "print(f\"Train Accuracy: {bag.score(X_train, y_train)}\")"
   ]
  },
  {
   "cell_type": "code",
   "execution_count": 129,
   "metadata": {},
   "outputs": [],
   "source": [
    "#BEST Model 0.7523989837864618\n",
    "\n",
    "#parameters\n",
    "max_depth = 20\n",
    "min_samples_split = 5\n",
    "min_samples_leaf = 1\n",
    "max_features = 'sqrt'\n",
    "random_state = 42\n",
    "model = DecisionTreeRegressor(max_depth=max_depth, min_samples_split=min_samples_split, max_features=max_features)\n",
    "\n",
    "\n",
    "n_estimators = 90\n",
    "max_samples = 0.95\n",
    "max_features = 1.0\n",
    "\n",
    "bag = BaggingRegressor(estimator=model, n_estimators=n_estimators, max_samples=max_samples, max_features=max_features)\n"
   ]
  },
  {
   "cell_type": "code",
   "execution_count": 130,
   "metadata": {},
   "outputs": [
    {
     "name": "stdout",
     "output_type": "stream",
     "text": [
      "0.7585893247319548\n"
     ]
    }
   ],
   "source": [
    "scores = cross_val_score(bag, X = X_train, y= y_train)\n",
    "\n",
    "print(scores.mean())"
   ]
  }
 ],
 "metadata": {
  "kernelspec": {
   "display_name": "CP322env",
   "language": "python",
   "name": "python3"
  },
  "language_info": {
   "codemirror_mode": {
    "name": "ipython",
    "version": 3
   },
   "file_extension": ".py",
   "mimetype": "text/x-python",
   "name": "python",
   "nbconvert_exporter": "python",
   "pygments_lexer": "ipython3",
   "version": "3.10.9"
  },
  "orig_nbformat": 4
 },
 "nbformat": 4,
 "nbformat_minor": 2
}
